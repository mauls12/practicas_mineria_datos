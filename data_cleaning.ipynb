{
 "cells": [
  {
   "cell_type": "code",
   "execution_count": 1,
   "metadata": {},
   "outputs": [
    {
     "data": {
      "text/html": [
       "<div>\n",
       "<style scoped>\n",
       "    .dataframe tbody tr th:only-of-type {\n",
       "        vertical-align: middle;\n",
       "    }\n",
       "\n",
       "    .dataframe tbody tr th {\n",
       "        vertical-align: top;\n",
       "    }\n",
       "\n",
       "    .dataframe thead th {\n",
       "        text-align: right;\n",
       "    }\n",
       "</style>\n",
       "<table border=\"1\" class=\"dataframe\">\n",
       "  <thead>\n",
       "    <tr style=\"text-align: right;\">\n",
       "      <th></th>\n",
       "      <th>Make</th>\n",
       "      <th>Model</th>\n",
       "      <th>Year</th>\n",
       "      <th>Price</th>\n",
       "      <th>Mileage</th>\n",
       "      <th>Manufacture_Date</th>\n",
       "    </tr>\n",
       "  </thead>\n",
       "  <tbody>\n",
       "    <tr>\n",
       "      <th>0</th>\n",
       "      <td>Volkswagen</td>\n",
       "      <td>SUV</td>\n",
       "      <td>2006</td>\n",
       "      <td>8327</td>\n",
       "      <td>113521</td>\n",
       "      <td>2016-12-12</td>\n",
       "    </tr>\n",
       "    <tr>\n",
       "      <th>1</th>\n",
       "      <td>Nissan</td>\n",
       "      <td>Hatchback</td>\n",
       "      <td>2019</td>\n",
       "      <td>34768</td>\n",
       "      <td>116378</td>\n",
       "      <td>2007-09-05</td>\n",
       "    </tr>\n",
       "    <tr>\n",
       "      <th>2</th>\n",
       "      <td>Hyundai</td>\n",
       "      <td>Sedan</td>\n",
       "      <td>2014</td>\n",
       "      <td>69418</td>\n",
       "      <td>17140</td>\n",
       "      <td>2003-05-11</td>\n",
       "    </tr>\n",
       "    <tr>\n",
       "      <th>3</th>\n",
       "      <td>Honda</td>\n",
       "      <td>Minivan</td>\n",
       "      <td>2010</td>\n",
       "      <td>47788</td>\n",
       "      <td>2670</td>\n",
       "      <td>2003-07-08</td>\n",
       "    </tr>\n",
       "    <tr>\n",
       "      <th>4</th>\n",
       "      <td>Volkswagen</td>\n",
       "      <td>Coupe</td>\n",
       "      <td>2007</td>\n",
       "      <td>51830</td>\n",
       "      <td>36519</td>\n",
       "      <td>2001-11-20</td>\n",
       "    </tr>\n",
       "  </tbody>\n",
       "</table>\n",
       "</div>"
      ],
      "text/plain": [
       "         Make      Model  Year  Price  Mileage Manufacture_Date\n",
       "0  Volkswagen        SUV  2006   8327   113521       2016-12-12\n",
       "1      Nissan  Hatchback  2019  34768   116378       2007-09-05\n",
       "2     Hyundai      Sedan  2014  69418    17140       2003-05-11\n",
       "3       Honda    Minivan  2010  47788     2670       2003-07-08\n",
       "4  Volkswagen      Coupe  2007  51830    36519       2001-11-20"
      ]
     },
     "execution_count": 1,
     "metadata": {},
     "output_type": "execute_result"
    }
   ],
   "source": [
    "import pandas as pd\n",
    "\n",
    "# Load the dataset\n",
    "file_path = 'DATASET/car_prices_dataset.csv'  # Update this path if needed\n",
    "car_data = pd.read_csv(file_path)\n",
    "\n",
    "# Display the dataset\n",
    "car_data.head()  # Show the first 5 rows\n"
   ]
  }
 ],
 "metadata": {
  "kernelspec": {
   "display_name": "Python 3",
   "language": "python",
   "name": "python3"
  },
  "language_info": {
   "codemirror_mode": {
    "name": "ipython",
    "version": 3
   },
   "file_extension": ".py",
   "mimetype": "text/x-python",
   "name": "python",
   "nbconvert_exporter": "python",
   "pygments_lexer": "ipython3",
   "version": "3.11.3"
  }
 },
 "nbformat": 4,
 "nbformat_minor": 2
}
